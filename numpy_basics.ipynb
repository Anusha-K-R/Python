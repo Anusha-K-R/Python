{
 "cells": [
  {
   "cell_type": "markdown",
   "metadata": {},
   "source": [
    "# Numpy basics"
   ]
  },
  {
   "cell_type": "markdown",
   "metadata": {},
   "source": [
    "#### Drawback of a list"
   ]
  },
  {
   "cell_type": "code",
   "execution_count": 37,
   "metadata": {},
   "outputs": [
    {
     "name": "stdout",
     "output_type": "stream",
     "text": [
      "21.85171572722109\n"
     ]
    },
    {
     "ename": "TypeError",
     "evalue": "unsupported operand type(s) for ** or pow(): 'list' and 'int'",
     "output_type": "error",
     "traceback": [
      "\u001b[31m---------------------------------------------------------------------------\u001b[39m",
      "\u001b[31mTypeError\u001b[39m                                 Traceback (most recent call last)",
      "\u001b[36mCell\u001b[39m\u001b[36m \u001b[39m\u001b[32mIn[37]\u001b[39m\u001b[32m, line 5\u001b[39m\n\u001b[32m      3\u001b[39m BMI = weight[\u001b[32m0\u001b[39m]/height[\u001b[32m0\u001b[39m]**\u001b[32m2\u001b[39m\n\u001b[32m      4\u001b[39m \u001b[38;5;28mprint\u001b[39m(BMI)\n\u001b[32m----> \u001b[39m\u001b[32m5\u001b[39m BMI = weight / \u001b[43mheight\u001b[49m\u001b[43m \u001b[49m\u001b[43m*\u001b[49m\u001b[43m*\u001b[49m\u001b[43m \u001b[49m\u001b[32;43m2\u001b[39;49m \u001b[38;5;66;03m# Will Throw error\u001b[39;00m\n",
      "\u001b[31mTypeError\u001b[39m: unsupported operand type(s) for ** or pow(): 'list' and 'int'"
     ]
    }
   ],
   "source": [
    "height = [1.73, 1.68, 1.71, 1.89, 1.79] \n",
    "weight = [65.4, 59.2, 63.6, 88.4, 68.7]\n",
    "BMI = weight[0]/height[0]**2\n",
    "print(BMI)\n",
    "BMI = weight / height ** 2 # Will Throw error"
   ]
  },
  {
   "cell_type": "markdown",
   "metadata": {},
   "source": [
    "### Numpy - Numeric Python"
   ]
  },
  {
   "cell_type": "code",
   "execution_count": 38,
   "metadata": {},
   "outputs": [
    {
     "name": "stdout",
     "output_type": "stream",
     "text": [
      "height [1.65 1.8  1.45 1.34 1.8 ]\n",
      "weight [62.4 55.2 51.6 48.4 98.7]\n",
      "BMI [22.92 17.04 24.54 26.95 30.46]\n"
     ]
    }
   ],
   "source": [
    "import numpy as np\n",
    "np_height = np.array([1.65, 1.8, 1.45, 1.34, 1.8])\n",
    "print(\"height\", np_height)\n",
    "np_weight = np.array([62.4, 55.2, 51.6, 48.4, 98.7])\n",
    "print(\"weight\", np_weight)\n",
    "BMI = np_weight / np_height ** 2\n",
    "print(\"BMI\", np.round(BMI, 2)) # Will not throw error\n"
   ]
  },
  {
   "cell_type": "markdown",
   "metadata": {},
   "source": [
    "#### Keep in mind\n"
   ]
  },
  {
   "cell_type": "code",
   "execution_count": 39,
   "metadata": {},
   "outputs": [
    {
     "name": "stdout",
     "output_type": "stream",
     "text": [
      "['1' '2.0' 'True' 'hello']\n",
      "<class 'numpy.ndarray'>\n",
      "[1. 2. 3. 4.]\n",
      "[2. 4. 6. 8.]\n",
      "[1, 2.0, 3, 4, 1, 2.0, 3, 4]\n"
     ]
    }
   ],
   "source": [
    "Array = np.array([1, 2.0, True, \"hello\"])\n",
    "print(Array) # Will convert all elements to string\n",
    "print(type(Array))\n",
    "\n",
    "Array = np.array([1, 2.0, 3, 4]) # converts to float\n",
    "print(Array) \n",
    "List = [1, 2.0, 3, 4]\n",
    "print(Array + Array) #Adds elements\n",
    "print(List + List) #Concatenates elements"
   ]
  },
  {
   "cell_type": "markdown",
   "metadata": {},
   "source": [
    "#### Indexing and subsetting 1D numpy arrays"
   ]
  },
  {
   "cell_type": "code",
   "execution_count": null,
   "metadata": {},
   "outputs": [
    {
     "name": "stdout",
     "output_type": "stream",
     "text": [
      "2\n",
      "[2 3]\n",
      "[2 3 4]\n",
      "[1 2 3]\n",
      "[False False False  True]\n",
      "[3 4]\n"
     ]
    }
   ],
   "source": [
    "Array = np.array([1, 2, 3, 4]) #1D array\n",
    "print(Array[1])\n",
    "print(Array[1:3])\n",
    "print(Array[1:])\n",
    "print(Array[:3])\n",
    "print(Array>3)\n",
    "print(Array[Array>2])"
   ]
  },
  {
   "cell_type": "code",
   "execution_count": 51,
   "metadata": {},
   "outputs": [
    {
     "name": "stdout",
     "output_type": "stream",
     "text": [
      "3\n",
      "3\n",
      "[1 2 3 4]\n",
      "[3 7]\n",
      "[[2 3]\n",
      " [6 7]]\n"
     ]
    }
   ],
   "source": [
    "Array = np.array([[1, 2, 3, 4], \n",
    "                 [5, 6, 7, 8]]) # 2D array\n",
    "print(Array[0][2])\n",
    "print(Array[0, 2])\n",
    "print(Array[0, :])\n",
    "print(Array[:, 2])\n",
    "print(Array[:, 1:3])"
   ]
  },
  {
   "cell_type": "markdown",
   "metadata": {},
   "source": [
    "#### method vs attribute"
   ]
  },
  {
   "cell_type": "code",
   "execution_count": 50,
   "metadata": {},
   "outputs": [
    {
     "name": "stdout",
     "output_type": "stream",
     "text": [
      "4.5\n",
      "4.5\n",
      "(2, 4)\n",
      "(2, 4)\n"
     ]
    }
   ],
   "source": [
    "Array = np.array([[1, 2, 3, 4], \n",
    "                 [5, 6, 7, 8]]) # 2D array\n",
    "print(np.mean(Array)) # Function from np module\n",
    "print(Array.mean()) # Method of the array object\n",
    "print(np.shape(Array)) # Attribute accessed via a method\n",
    "print(Array.shape) #Directly accessing the attribute\n"
   ]
  },
  {
   "cell_type": "markdown",
   "metadata": {},
   "source": [
    "#### Mathematical operations on arrays"
   ]
  },
  {
   "cell_type": "code",
   "execution_count": 59,
   "metadata": {},
   "outputs": [
    {
     "name": "stdout",
     "output_type": "stream",
     "text": [
      "[[ 3  8 15 24]\n",
      " [15 24 35 48]]\n",
      "[[10 20 30 40]\n",
      " [50 60 70 80]]\n",
      "[3. 4. 5. 6.]\n",
      "[2.5 6.5]\n",
      "4.5\n"
     ]
    }
   ],
   "source": [
    "Array = np.array([[1, 2, 3, 4], \n",
    "                 [5, 6, 7, 8]]) # 2D array\n",
    "var = np.array([3, 4, 5, 6])\n",
    "print(Array * var)\n",
    "print(Array * 10)\n",
    "print(np.mean(Array, axis = 0)) # Column wise mean\n",
    "print(np.mean(Array, axis = 1)) # Row wise mean\n",
    "print(np.mean(Array, axis = None)) # Entire array mean\n"
   ]
  },
  {
   "cell_type": "markdown",
   "metadata": {},
   "source": [
    "#### Basic statistical summary"
   ]
  },
  {
   "cell_type": "code",
   "execution_count": 70,
   "metadata": {},
   "outputs": [
    {
     "name": "stdout",
     "output_type": "stream",
     "text": [
      "4.5\n",
      "2.5\n",
      "[2.5 6.5]\n",
      "[3. 4. 5. 6.]\n",
      "4.5\n",
      "2.29128784747792\n",
      "[[1. 1.]\n",
      " [1. 1.]]\n"
     ]
    }
   ],
   "source": [
    "Array = np.array([[1, 2, 3, 4],\n",
    "                 [5, 6, 7, 8]]) # 2D array  \n",
    "print(np.mean(Array)) # Entire array mean\n",
    "print(np.mean(Array[0, :])) # 1st row mean\n",
    "print(np.mean(Array, axis = 1)) # Row wise mean\n",
    "print(np.mean(Array, axis = 0)) # Column wise mean\n",
    "print(np.median(Array)) # Median\n",
    "print(np.std(Array)) # Standard deviation\n",
    "print(np.corrcoef(Array[0, :], Array[1,:])) # Correlation coefficient between rows"
   ]
  }
 ],
 "metadata": {
  "kernelspec": {
   "display_name": "Python 3",
   "language": "python",
   "name": "python3"
  },
  "language_info": {
   "codemirror_mode": {
    "name": "ipython",
    "version": 3
   },
   "file_extension": ".py",
   "mimetype": "text/x-python",
   "name": "python",
   "nbconvert_exporter": "python",
   "pygments_lexer": "ipython3",
   "version": "3.13.2"
  }
 },
 "nbformat": 4,
 "nbformat_minor": 2
}
