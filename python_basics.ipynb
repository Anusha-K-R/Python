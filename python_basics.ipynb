{
 "cells": [
  {
   "cell_type": "markdown",
   "metadata": {},
   "source": [
    "# Python basics"
   ]
  },
  {
   "cell_type": "markdown",
   "metadata": {},
   "source": [
    "## Comments"
   ]
  },
  {
   "cell_type": "code",
   "execution_count": 26,
   "metadata": {},
   "outputs": [
    {
     "data": {
      "text/plain": [
       "' Longer \\n    multi-line \\n    comment '"
      ]
     },
     "execution_count": 26,
     "metadata": {},
     "output_type": "execute_result"
    }
   ],
   "source": [
    "# Shorter one line comment\n",
    "\"\"\" Longer \n",
    "    multi-line \n",
    "    comment \"\"\""
   ]
  },
  {
   "cell_type": "markdown",
   "metadata": {},
   "source": [
    "## Variables"
   ]
  },
  {
   "cell_type": "code",
   "execution_count": 27,
   "metadata": {},
   "outputs": [
    {
     "name": "stdout",
     "output_type": "stream",
     "text": [
      "2\n",
      "7\n"
     ]
    },
    {
     "data": {
      "text/plain": [
       "' Invalid variable name formats - starting with a number, containing spaces, or special characters\\n1height = 5\\nheight- = 5\\nheight 1 = 5 '"
      ]
     },
     "execution_count": 27,
     "metadata": {},
     "output_type": "execute_result"
    }
   ],
   "source": [
    "x = 2 # variable assignment\n",
    "x # display output - direct Expression\n",
    "print(x) # display output - print function\n",
    "x = 3 # variable reassignment\n",
    "X = 4 # case sensitive\n",
    "print(x+X) \n",
    "\n",
    "# Acceptable variable name formats\n",
    "height = 5 \n",
    "Height = 5\n",
    "height1 = 5\n",
    "height_ = 5 \n",
    "height1_ = 5\n",
    "height_1 = 5 \n",
    "_height = 5 # Private variables usually start with an underscore\n",
    "HEIGHT = 5 # Constansts are usually in uppercase\n",
    "\"\"\" Invalid variable name formats - starting with a number, containing spaces, or special characters\n",
    "1height = 5\n",
    "height- = 5\n",
    "height 1 = 5 \"\"\""
   ]
  },
  {
   "cell_type": "markdown",
   "metadata": {},
   "source": [
    "## Basic operations"
   ]
  },
  {
   "cell_type": "code",
   "execution_count": 28,
   "metadata": {},
   "outputs": [
    {
     "name": "stdout",
     "output_type": "stream",
     "text": [
      "23\n",
      "5\n",
      "-1\n",
      "6\n",
      "0.6666666666666666\n",
      "8\n",
      "2\n",
      "0\n",
      "False\n",
      "7\n"
     ]
    }
   ],
   "source": [
    "print(\"2\" + \"3\") # joining strings\n",
    "print(2 + 3) # Addition\n",
    "print(2 - 3) # Subtraction\n",
    "print(2 * 3) # Multiplication\n",
    "print(2 / 3) # Division\n",
    "print(2 ** 3) # Exponentiation\n",
    "print(2 % 3) # Modulus/remainder\n",
    "print(2 // 3) # Floor division/quotient\n",
    "print(2 == 3) # Comparison\n",
    "print(x + X) # Mathematical operations on variables"
   ]
  },
  {
   "cell_type": "markdown",
   "metadata": {},
   "source": [
    "## Data types"
   ]
  },
  {
   "cell_type": "code",
   "execution_count": 29,
   "metadata": {},
   "outputs": [
    {
     "name": "stdout",
     "output_type": "stream",
     "text": [
      "<class 'int'>\n",
      "<class 'float'>\n",
      "<class 'str'>\n",
      "<class 'str'>\n",
      "<class 'list'>\n",
      "<class 'tuple'>\n",
      "<class 'set'>\n",
      "<class 'dict'>\n",
      "<class 'bool'>\n",
      "<class 'NoneType'>\n",
      "<class 'complex'>\n",
      "<class 'bytes'>\n"
     ]
    }
   ],
   "source": [
    "print(type(-2)) # Integer - whole numbers\n",
    "print(type(2.0)) # Float - decimal numbers\n",
    "print(type(\"2\")) # String - text\n",
    "print(type('2')) # String - text\n",
    "print(type([2, 3])) # List- ordered collections of items.\n",
    "print(type((2, 3))) # Tuple - ordered, immutable collections of items.\n",
    "print(type({2, 3})) # Set - unordered collections of unique items.\n",
    "print(type({'a': 2, 'b': 3})) # Dictionary - unordered collections of key-value pairs.  \n",
    "print(type(True)) # Boolean - logical value indicating True or False.\n",
    "print(type(None)) # NoneType - special type representing the absence of a value.\n",
    "print(type(2 + 3j)) # Complex - numbers with a real and imaginary part\n",
    "print(type(b'hello')) # Bytes - immutable sequences of bytes used for binary data"
   ]
  },
  {
   "cell_type": "markdown",
   "metadata": {},
   "source": [
    "### Lists - a compound data type\n",
    "#### Create a list"
   ]
  },
  {
   "cell_type": "code",
   "execution_count": 30,
   "metadata": {},
   "outputs": [
    {
     "name": "stdout",
     "output_type": "stream",
     "text": [
      "[15.25, 19.0, 27, 10.9, 9.56]\n",
      "['hallway', 15.25, 'kitchen', 19.0, 'living', 27, 'bedroom', 10.9, 'bathroom', 9.56]\n",
      "[['hallway', 15.25], ['kitchen', 19.0], ['living', 27], ['bedroom', 10.9], ['bathroom', 9.56]]\n"
     ]
    }
   ],
   "source": [
    "hall = 15.25\n",
    "kit = 19.0\n",
    "liv = 27\n",
    "bed = 10.90\n",
    "bath = 9.56\n",
    "# Creating a simple list\n",
    "area = [hall, kit, liv, bed, bath]\n",
    "print(area)\n",
    "# Create lists with different data types\n",
    "area = [\"hallway\", hall, \n",
    "        \"kitchen\", kit, \n",
    "        \"living\", liv, \n",
    "        \"bedroom\", bed, \n",
    "        \"bathroom\", bath]\n",
    "print(area)\n",
    "# List of lists\n",
    "house = [[\"hallway\", hall],\n",
    "         [\"kitchen\", kit],\n",
    "         [\"living\", liv],\n",
    "         [\"bedroom\", bed],\n",
    "         [\"bathroom\", bath]]\n",
    "print(house)"
   ]
  },
  {
   "cell_type": "markdown",
   "metadata": {},
   "source": [
    "#### Indexing and Subsetting lists"
   ]
  },
  {
   "cell_type": "code",
   "execution_count": 31,
   "metadata": {},
   "outputs": [
    {
     "name": "stdout",
     "output_type": "stream",
     "text": [
      "hallway\n",
      "9.56\n",
      "27\n",
      "['kitchen', 19.0, 'living']\n",
      "['hallway', 15.25, 'kitchen', 19.0, 'living', 27]\n",
      "['bedroom', 10.9, 'bathroom', 9.56]\n",
      "kitchen\n",
      "['kitchen', 19.0]\n",
      "['hallway', 15.25, 'kitchen', 19.0, 'living', 27, 'bedroom', 10.9, 'bathroom', 9.56]\n",
      "['hallway', 15.25, 'kitchen', 19.0, 'living', 27]\n",
      "['bedroom', 10.9, 'bathroom', 9.56]\n"
     ]
    }
   ],
   "source": [
    "area = ['hallway', 15.25, \n",
    "        'kitchen', 19.0, \n",
    "        'living', 27, \n",
    "        'bedroom', 10.9, \n",
    "        'bathroom', 9.56]\n",
    "# Accessing elements in a list - indexing\n",
    "print(area[0])\n",
    "print(area[-1])\n",
    "print(area[5])\n",
    "\n",
    "# Slicing a list - selecting multiple elements\n",
    "print(area[2:5])\n",
    "print(area[:6])\n",
    "print(area[6:])\n",
    "\n",
    "house = [['hallway', 15.25], \n",
    "         ['kitchen', 19.0], \n",
    "         ['living', 27], \n",
    "         ['bedroom', 10.9], \n",
    "         ['bathroom', 9.56]]\n",
    "\n",
    "# Subsetting lists of lists\n",
    "print(house[1][0])\n",
    "print(house[1][:])\n",
    "\n",
    "#subsettting and copying lists\n",
    "house = area[:]\n",
    "downstairs = area[:6]\n",
    "upstairs = area[6:]\n",
    "print(house)\n",
    "print(downstairs)\n",
    "print(upstairs)"
   ]
  },
  {
   "cell_type": "markdown",
   "metadata": {},
   "source": [
    "#### Modifying list elements"
   ]
  },
  {
   "cell_type": "code",
   "execution_count": 32,
   "metadata": {},
   "outputs": [
    {
     "name": "stdout",
     "output_type": "stream",
     "text": [
      "['hallway', 15.25, 'kitchen', 19.0, 'living', 27, 'bedroom', 10.9, 'bathroom', 9.56]\n",
      "['hallway', 15.25, 'kitchen', 19.0, 'chill zone', 27, 'bedroom', 10.9, 'bathroom', 10.5]\n",
      "['hallway', 15.25, 'kitchen', 19.0, 'chill zone', 27, 'bedroom', 10.9, 'bathroom', 10.5, 'poolhouse', 24.5]\n",
      "['hallway', 15.25, 'kitchen', 19.0, 'chill zone', 27, 'bedroom', 10.9, 'bathroom', 10.5, 'poolhouse', 24.5, 'garage', 15.45]\n",
      "['hallway', 15.25, 'kitchen', 19.0, 'chill zone', 27, 'bedroom', 10.9, 'bathroom', 10.5]\n",
      "['hallway', 15.25, 'kitchen', 19.0, 'chill zone', 27, 'bedroom', 10.9, 'bathroom', 10.5, 'garage', 15.45]\n"
     ]
    }
   ],
   "source": [
    "area = ['hallway', 15.25, \n",
    "        'kitchen', 19.0, \n",
    "        'living', 27, \n",
    "        'bedroom', 10.9, \n",
    "        'bathroom', 9.56]\n",
    "print(area)\n",
    "# replacing elements in a list\n",
    "area[-1] = 10.5\n",
    "area[4] = \"chill zone\"\n",
    "print(area)\n",
    "\n",
    "# Adding elements to a list\n",
    "area = area + [\"poolhouse\", 24.5]\n",
    "area_1 = area + [\"garage\", 15.45]\n",
    "print(area)\n",
    "print(area_1)\n",
    "\n",
    "# Removing elements from a list\n",
    "del(area[-2:])\n",
    "del(area_1[10:12])\n",
    "print(area)\n",
    "print(area_1)\n"
   ]
  },
  {
   "cell_type": "markdown",
   "metadata": {},
   "source": [
    "#### Concept of list references"
   ]
  },
  {
   "cell_type": "code",
   "execution_count": 33,
   "metadata": {},
   "outputs": [
    {
     "name": "stdout",
     "output_type": "stream",
     "text": [
      "[19.0, 27, 10.9, 9.56]\n",
      "[15.25, 19.0, 27, 10.9, 9.56]\n"
     ]
    }
   ],
   "source": [
    "area = [15.25, 19.0, 27, 10.9, 9.56]\n",
    "area1 = area # Copying a list by reference\n",
    "del(area1[0]) # Affects the original list\n",
    "print(area)\n",
    "\n",
    "area = [15.25, 19.0, 27, 10.9, 9.56]\n",
    "area1 = area[:] # Copying a list by value\n",
    "del(area1[0]) # Dies not affect the original list\n",
    "print(area)"
   ]
  },
  {
   "cell_type": "markdown",
   "metadata": {},
   "source": [
    "### Dictionaries\n",
    "#### {'key1':value1, 'key2':value2,...}"
   ]
  },
  {
   "cell_type": "code",
   "execution_count": 1,
   "metadata": {},
   "outputs": [
    {
     "name": "stdout",
     "output_type": "stream",
     "text": [
      "berlin\n"
     ]
    }
   ],
   "source": [
    "# using multiple lists to store data of country and their capitals\n",
    "countries = ['spain', 'france', 'germany', 'norway']\n",
    "capitals = ['madrid', 'paris', 'berlin', 'oslo']\n",
    "ind_ger = countries.index('germany') #index of germany\n",
    "print(capitals[ind_ger]) #capital of germany\n",
    "\n",
    "europe = {'spain':'madrid','france':'paris', 'germany':'berlin', 'norway':'oslo'}"
   ]
  },
  {
   "cell_type": "markdown",
   "metadata": {},
   "source": [
    "## Functions\n",
    "##### Functions are independent blocks of code that perform specific tasks and can be called without being associated with any object."
   ]
  },
  {
   "cell_type": "code",
   "execution_count": 34,
   "metadata": {},
   "outputs": [
    {
     "name": "stdout",
     "output_type": "stream",
     "text": [
      "<class 'list'>\n",
      "5\n",
      "1\n",
      "Help on built-in function len in module builtins:\n",
      "\n",
      "len(obj, /)\n",
      "    Return the number of items in a container.\n",
      "\n",
      "[9.56, 10.9, 15.25, 19.0, 27]\n",
      "[27, 19.0, 15.25, 10.9, 9.56]\n"
     ]
    }
   ],
   "source": [
    "area = [15.25, 19.0, 27, 10.9, 9.56]\n",
    "Bool = True\n",
    "print(type(area))\n",
    "print(len(area))\n",
    "out2 = int(Bool)\n",
    "print(out2)\n",
    "\n",
    "# check documentation of a function\n",
    "help(len)\n",
    "\n",
    "# sorting a list\n",
    "print(sorted(area))\n",
    "print(sorted(area, reverse = True))\n"
   ]
  },
  {
   "cell_type": "markdown",
   "metadata": {},
   "source": [
    "## Methods\n",
    "##### Methods are functions associated with objects, allowing them to access and modify the object's attributes. They are called on instances of a class."
   ]
  },
  {
   "cell_type": "code",
   "execution_count": 35,
   "metadata": {},
   "outputs": [
    {
     "name": "stdout",
     "output_type": "stream",
     "text": [
      "[15.25, 19.0, 27, 10.9, 9.56, 24.5]\n",
      "[24.5, 9.56, 10.9, 27, 19.0, 15.25]\n",
      "[9.56, 10.9, 15.25, 19.0, 24.5, 27]\n",
      "Python\n",
      "PYTHON\n"
     ]
    },
    {
     "data": {
      "text/plain": [
       "1"
      ]
     },
     "execution_count": 35,
     "metadata": {},
     "output_type": "execute_result"
    }
   ],
   "source": [
    "area = [15.25, 19.0, 27, 10.9, 9.56]\n",
    "area.append(24.5)\n",
    "print(area)\n",
    "area.reverse()\n",
    "print(area)\n",
    "area.sort()\n",
    "print(area)\n",
    "area.index(27)\n",
    "\n",
    "text = \"python\"\n",
    "text = text.capitalize()\n",
    "print(text)\n",
    "text = text.upper()\n",
    "print(text)\n",
    "text.count('T')\n"
   ]
  },
  {
   "cell_type": "markdown",
   "metadata": {},
   "source": [
    "## Packages\n",
    "##### Packages are collections of modules that are grouped together to provide specific functionality. They help organize and manage code, making it easier to reuse and maintain."
   ]
  },
  {
   "cell_type": "code",
   "execution_count": 36,
   "metadata": {},
   "outputs": [
    {
     "name": "stdout",
     "output_type": "stream",
     "text": [
      "3.141592653589793\n",
      "5.0\n",
      "8.0\n",
      "area of the circle is 12.57m^2\n"
     ]
    }
   ],
   "source": [
    "import math\n",
    "\n",
    "print(math.pi)\n",
    "print(math.sqrt(25))\n",
    "print(math.pow(2, 3))\n",
    "\n",
    "circle_area = math.pi * 2 ** 2\n",
    "circle_area = round(circle_area, 2)\n",
    "print(\"area of the circle is \" + str(circle_area) + \"m^2\")\n"
   ]
  }
 ],
 "metadata": {
  "kernelspec": {
   "display_name": "Python 3",
   "language": "python",
   "name": "python3"
  },
  "language_info": {
   "codemirror_mode": {
    "name": "ipython",
    "version": 3
   },
   "file_extension": ".py",
   "mimetype": "text/x-python",
   "name": "python",
   "nbconvert_exporter": "python",
   "pygments_lexer": "ipython3",
   "version": "3.13.2"
  }
 },
 "nbformat": 4,
 "nbformat_minor": 2
}
