{
 "cells": [
  {
   "cell_type": "markdown",
   "metadata": {},
   "source": [
    "# Python basics"
   ]
  },
  {
   "cell_type": "markdown",
   "metadata": {},
   "source": [
    "## Comments"
   ]
  },
  {
   "cell_type": "code",
   "execution_count": 3,
   "metadata": {},
   "outputs": [
    {
     "data": {
      "text/plain": [
       "' Longer \\n    multi-line \\n    comment '"
      ]
     },
     "execution_count": 3,
     "metadata": {},
     "output_type": "execute_result"
    }
   ],
   "source": [
    "# Shorter one line comment\n",
    "\"\"\" Longer \n",
    "    multi-line \n",
    "    comment \"\"\""
   ]
  },
  {
   "cell_type": "markdown",
   "metadata": {},
   "source": [
    "## Variables"
   ]
  },
  {
   "cell_type": "code",
   "execution_count": 7,
   "metadata": {},
   "outputs": [
    {
     "name": "stdout",
     "output_type": "stream",
     "text": [
      "2\n",
      "7\n"
     ]
    },
    {
     "data": {
      "text/plain": [
       "' Invalid variable name formats - starting with a number, containing spaces, or special characters\\n1height = 5\\nheight- = 5\\nheight 1 = 5 '"
      ]
     },
     "execution_count": 7,
     "metadata": {},
     "output_type": "execute_result"
    }
   ],
   "source": [
    "x = 2 # variable assignment\n",
    "x # display output - direct Expression\n",
    "print(x) # display output - print function\n",
    "x = 3 # variable reassignment\n",
    "X = 4 # case sensitive\n",
    "print(x+X) \n",
    "\n",
    "# Acceptable variable name formats\n",
    "height = 5 \n",
    "Height = 5\n",
    "height1 = 5\n",
    "height_ = 5 \n",
    "height1_ = 5\n",
    "height_1 = 5 \n",
    "_height = 5 # Private variables usually start with an underscore\n",
    "HEIGHT = 5 # Constansts are usually in uppercase\n",
    "\"\"\" Invalid variable name formats - starting with a number, containing spaces, or special characters\n",
    "1height = 5\n",
    "height- = 5\n",
    "height 1 = 5 \"\"\""
   ]
  },
  {
   "cell_type": "markdown",
   "metadata": {},
   "source": [
    "## Basic operations"
   ]
  },
  {
   "cell_type": "code",
   "execution_count": 27,
   "metadata": {},
   "outputs": [
    {
     "name": "stdout",
     "output_type": "stream",
     "text": [
      "23\n",
      "5\n",
      "-1\n",
      "6\n",
      "0.6666666666666666\n",
      "8\n",
      "2\n",
      "0\n",
      "False\n",
      "7\n"
     ]
    }
   ],
   "source": [
    "print(\"2\" + \"3\") # joining strings\n",
    "print(2 + 3) # Addition\n",
    "print(2 - 3) # Subtraction\n",
    "print(2 * 3) # Multiplication\n",
    "print(2 / 3) # Division\n",
    "print(2 ** 3) # Exponentiation\n",
    "print(2 % 3) # Modulus/remainder\n",
    "print(2 // 3) # Floor division/quotient\n",
    "print(2 == 3) # Comparison\n",
    "print(x + X) # Mathematical operations on variables"
   ]
  },
  {
   "cell_type": "markdown",
   "metadata": {},
   "source": [
    "## Data types"
   ]
  },
  {
   "cell_type": "code",
   "execution_count": 26,
   "metadata": {},
   "outputs": [
    {
     "name": "stdout",
     "output_type": "stream",
     "text": [
      "<class 'int'>\n",
      "<class 'float'>\n",
      "<class 'str'>\n",
      "<class 'str'>\n",
      "<class 'list'>\n",
      "<class 'tuple'>\n",
      "<class 'set'>\n",
      "<class 'dict'>\n",
      "<class 'bool'>\n",
      "<class 'NoneType'>\n",
      "<class 'complex'>\n",
      "<class 'bytes'>\n"
     ]
    }
   ],
   "source": [
    "print(type(-2)) # Integer - whole numbers\n",
    "print(type(2.0)) # Float - decimal numbers\n",
    "print(type(\"2\")) # String - text\n",
    "print(type('2')) # String - text\n",
    "print(type([2, 3])) # List- ordered collections of items.\n",
    "print(type((2, 3))) # Tuple - ordered, immutable collections of items.\n",
    "print(type({2, 3})) # Set - unordered collections of unique items.\n",
    "print(type({'a': 2, 'b': 3})) # Dictionary - unordered collections of key-value pairs.  \n",
    "print(type(True)) # Boolean - logical value indicating True or False.\n",
    "print(type(None)) # NoneType - special type representing the absence of a value.\n",
    "print(type(2 + 3j)) # Complex - numbers with a real and imaginary part\n",
    "print(type(b'hello')) # Bytes - immutable sequences of bytes used for binary data"
   ]
  },
  {
   "cell_type": "markdown",
   "metadata": {},
   "source": [
    "### Lists - a compound data type\n",
    "#### Create a list"
   ]
  },
  {
   "cell_type": "code",
   "execution_count": 34,
   "metadata": {},
   "outputs": [
    {
     "name": "stdout",
     "output_type": "stream",
     "text": [
      "[11.25, 18.0, 20.0, 10.75, 9.5]\n",
      "['hallway', 11.25, 'kitchen', 18.0, 'living room', 20.0, 'bedroom', 10.75, 'bathroom', 9.5]\n",
      "[['hallway', 11.25], ['kitchen', 18.0], ['living room', 20.0], ['bedroom', 10.75], ['bathroom', 9.5]]\n"
     ]
    }
   ],
   "source": [
    "hall = 11.25\n",
    "kit = 18.0\n",
    "liv = 20.0\n",
    "bed = 10.75\n",
    "bath = 9.50\n",
    "# Creating a simple list\n",
    "areas = [hall, kit, liv, bed, bath]\n",
    "print(areas)\n",
    "# Create lists with different data types\n",
    "areas = [\"hallway\", hall, \"kitchen\", kit, \"living room\", liv, \"bedroom\", bed, \"bathroom\", bath]\n",
    "print(areas)\n",
    "# List of lists\n",
    "house = [[\"hallway\", hall],\n",
    "         [\"kitchen\", kit],\n",
    "         [\"living room\", liv],\n",
    "         [\"bedroom\", bed],\n",
    "         [\"bathroom\", bath]]\n",
    "print(house)\n"
   ]
  },
  {
   "cell_type": "markdown",
   "metadata": {},
   "source": [
    "#### Indexing and Subsetting lists"
   ]
  },
  {
   "cell_type": "code",
   "execution_count": 38,
   "metadata": {},
   "outputs": [
    {
     "name": "stdout",
     "output_type": "stream",
     "text": [
      "hallway\n",
      "9.5\n",
      "20.0\n",
      "['kitchen', 18.0, 'living room']\n",
      "['hallway', 11.25, 'kitchen', 18.0, 'living room', 20.0]\n",
      "['bedroom', 10.75, 'bathroom', 9.5]\n",
      "kitchen\n",
      "['kitchen', 18.0]\n"
     ]
    }
   ],
   "source": [
    "areas = [\"hallway\", 11.25, \"kitchen\", 18.0, \"living room\", 20.0, \"bedroom\", 10.75, \"bathroom\", 9.50]\n",
    "# Accessing elements in a list - indexing\n",
    "print(areas[0])\n",
    "print(areas[-1])\n",
    "print(areas[5])\n",
    "\n",
    "# Slicing a list - selecting multiple elements\n",
    "print(areas[2:5])\n",
    "print(areas[:6])\n",
    "print(areas[6:])\n",
    "\n",
    "house = [[\"hallway\", 11.25],\n",
    "         [\"kitchen\", 18.0],\n",
    "         [\"living room\", 20.0],\n",
    "         [\"bedroom\", 10.75],\n",
    "         [\"bathroom\", 9.50]]\n",
    "\n",
    "# Subsetting lists of lists\n",
    "print(house[1][0])\n",
    "print(house[1][:])"
   ]
  },
  {
   "cell_type": "markdown",
   "metadata": {},
   "source": [
    "#### Deleting and replacing list elements"
   ]
  }
 ],
 "metadata": {
  "kernelspec": {
   "display_name": "Python 3",
   "language": "python",
   "name": "python3"
  },
  "language_info": {
   "codemirror_mode": {
    "name": "ipython",
    "version": 3
   },
   "file_extension": ".py",
   "mimetype": "text/x-python",
   "name": "python",
   "nbconvert_exporter": "python",
   "pygments_lexer": "ipython3",
   "version": "3.13.2"
  }
 },
 "nbformat": 4,
 "nbformat_minor": 2
}
